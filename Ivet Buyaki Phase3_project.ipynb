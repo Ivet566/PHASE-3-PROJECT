{
 "cells": [
  {
   "cell_type": "markdown",
   "id": "d48947db",
   "metadata": {},
   "source": [
    "## SyriaTel Customer Churn"
   ]
  },
  {
   "cell_type": "markdown",
   "id": "43bb787a",
   "metadata": {},
   "source": [
    "### i) Business Understanding"
   ]
  },
  {
   "cell_type": "markdown",
   "id": "3e588155",
   "metadata": {},
   "source": [
    "SyriaTel Telecommunications has been encountering losses, on further investigation they discovered it was partly due to over-investing in customers who did not stick around too long.The company has set out to identify any clues or patterns that indicate the possibility of a customer stopping business with them 'soon'."
   ]
  },
  {
   "cell_type": "markdown",
   "id": "03b2fb8b",
   "metadata": {},
   "source": [
    "### ii) Data Understanding"
   ]
  },
  {
   "cell_type": "markdown",
   "id": "66c937a3",
   "metadata": {},
   "source": [
    "The dataset is obtained from kaggle and can be found in this link - https://www.kaggle.com/datasets/becksddf/churn-in-telecoms-dataset/data"
   ]
  },
  {
   "cell_type": "markdown",
   "id": "3505c310",
   "metadata": {},
   "source": [
    "### iii) Importing the data and required libraries"
   ]
  },
  {
   "cell_type": "code",
   "execution_count": 186,
   "id": "78992eea",
   "metadata": {},
   "outputs": [],
   "source": [
    "#loading required libraries\n",
    "import statsmodels.api as sm\n",
    "import pandas as pd\n",
    "from sklearn.preprocessing import LabelEncoder\n",
    "from sklearn.metrics import classification_report, accuracy_score,f1_score\n",
    "from sklearn.linear_model import LogisticRegression\n",
    "from sklearn.model_selection import train_test_split\n",
    "from scipy import stats\n",
    "import numpy as np \n",
    "import matplotlib.pyplot as plt\n",
    "import seaborn as sns\n",
    "from sklearn.tree import DecisionTreeClassifier \n",
    "from sklearn.preprocessing import OneHotEncoder\n",
    "from sklearn.feature_selection import SelectKBest, f_regression\n",
    "from sklearn.preprocessing import MinMaxScaler, PolynomialFeatures, StandardScaler\n",
    "from sklearn.metrics import roc_curve, auc\n",
    "from sklearn import tree\n",
    "from imblearn.over_sampling import SMOTE\n",
    "from sklearn.linear_model import Ridge\n",
    "from sklearn.tree import DecisionTreeRegressor"
   ]
  },
  {
   "cell_type": "code",
   "execution_count": 187,
   "id": "142bbc6f",
   "metadata": {},
   "outputs": [
    {
     "data": {
      "text/html": [
       "<div>\n",
       "<style scoped>\n",
       "    .dataframe tbody tr th:only-of-type {\n",
       "        vertical-align: middle;\n",
       "    }\n",
       "\n",
       "    .dataframe tbody tr th {\n",
       "        vertical-align: top;\n",
       "    }\n",
       "\n",
       "    .dataframe thead th {\n",
       "        text-align: right;\n",
       "    }\n",
       "</style>\n",
       "<table border=\"1\" class=\"dataframe\">\n",
       "  <thead>\n",
       "    <tr style=\"text-align: right;\">\n",
       "      <th></th>\n",
       "      <th>state</th>\n",
       "      <th>account length</th>\n",
       "      <th>area code</th>\n",
       "      <th>phone number</th>\n",
       "      <th>international plan</th>\n",
       "      <th>voice mail plan</th>\n",
       "      <th>number vmail messages</th>\n",
       "      <th>total day minutes</th>\n",
       "      <th>total day calls</th>\n",
       "      <th>total day charge</th>\n",
       "      <th>...</th>\n",
       "      <th>total eve calls</th>\n",
       "      <th>total eve charge</th>\n",
       "      <th>total night minutes</th>\n",
       "      <th>total night calls</th>\n",
       "      <th>total night charge</th>\n",
       "      <th>total intl minutes</th>\n",
       "      <th>total intl calls</th>\n",
       "      <th>total intl charge</th>\n",
       "      <th>customer service calls</th>\n",
       "      <th>churn</th>\n",
       "    </tr>\n",
       "  </thead>\n",
       "  <tbody>\n",
       "    <tr>\n",
       "      <th>0</th>\n",
       "      <td>KS</td>\n",
       "      <td>128</td>\n",
       "      <td>415</td>\n",
       "      <td>382-4657</td>\n",
       "      <td>no</td>\n",
       "      <td>yes</td>\n",
       "      <td>25</td>\n",
       "      <td>265.1</td>\n",
       "      <td>110</td>\n",
       "      <td>45.07</td>\n",
       "      <td>...</td>\n",
       "      <td>99</td>\n",
       "      <td>16.78</td>\n",
       "      <td>244.7</td>\n",
       "      <td>91</td>\n",
       "      <td>11.01</td>\n",
       "      <td>10.0</td>\n",
       "      <td>3</td>\n",
       "      <td>2.70</td>\n",
       "      <td>1</td>\n",
       "      <td>False</td>\n",
       "    </tr>\n",
       "    <tr>\n",
       "      <th>1</th>\n",
       "      <td>OH</td>\n",
       "      <td>107</td>\n",
       "      <td>415</td>\n",
       "      <td>371-7191</td>\n",
       "      <td>no</td>\n",
       "      <td>yes</td>\n",
       "      <td>26</td>\n",
       "      <td>161.6</td>\n",
       "      <td>123</td>\n",
       "      <td>27.47</td>\n",
       "      <td>...</td>\n",
       "      <td>103</td>\n",
       "      <td>16.62</td>\n",
       "      <td>254.4</td>\n",
       "      <td>103</td>\n",
       "      <td>11.45</td>\n",
       "      <td>13.7</td>\n",
       "      <td>3</td>\n",
       "      <td>3.70</td>\n",
       "      <td>1</td>\n",
       "      <td>False</td>\n",
       "    </tr>\n",
       "    <tr>\n",
       "      <th>2</th>\n",
       "      <td>NJ</td>\n",
       "      <td>137</td>\n",
       "      <td>415</td>\n",
       "      <td>358-1921</td>\n",
       "      <td>no</td>\n",
       "      <td>no</td>\n",
       "      <td>0</td>\n",
       "      <td>243.4</td>\n",
       "      <td>114</td>\n",
       "      <td>41.38</td>\n",
       "      <td>...</td>\n",
       "      <td>110</td>\n",
       "      <td>10.30</td>\n",
       "      <td>162.6</td>\n",
       "      <td>104</td>\n",
       "      <td>7.32</td>\n",
       "      <td>12.2</td>\n",
       "      <td>5</td>\n",
       "      <td>3.29</td>\n",
       "      <td>0</td>\n",
       "      <td>False</td>\n",
       "    </tr>\n",
       "    <tr>\n",
       "      <th>3</th>\n",
       "      <td>OH</td>\n",
       "      <td>84</td>\n",
       "      <td>408</td>\n",
       "      <td>375-9999</td>\n",
       "      <td>yes</td>\n",
       "      <td>no</td>\n",
       "      <td>0</td>\n",
       "      <td>299.4</td>\n",
       "      <td>71</td>\n",
       "      <td>50.90</td>\n",
       "      <td>...</td>\n",
       "      <td>88</td>\n",
       "      <td>5.26</td>\n",
       "      <td>196.9</td>\n",
       "      <td>89</td>\n",
       "      <td>8.86</td>\n",
       "      <td>6.6</td>\n",
       "      <td>7</td>\n",
       "      <td>1.78</td>\n",
       "      <td>2</td>\n",
       "      <td>False</td>\n",
       "    </tr>\n",
       "    <tr>\n",
       "      <th>4</th>\n",
       "      <td>OK</td>\n",
       "      <td>75</td>\n",
       "      <td>415</td>\n",
       "      <td>330-6626</td>\n",
       "      <td>yes</td>\n",
       "      <td>no</td>\n",
       "      <td>0</td>\n",
       "      <td>166.7</td>\n",
       "      <td>113</td>\n",
       "      <td>28.34</td>\n",
       "      <td>...</td>\n",
       "      <td>122</td>\n",
       "      <td>12.61</td>\n",
       "      <td>186.9</td>\n",
       "      <td>121</td>\n",
       "      <td>8.41</td>\n",
       "      <td>10.1</td>\n",
       "      <td>3</td>\n",
       "      <td>2.73</td>\n",
       "      <td>3</td>\n",
       "      <td>False</td>\n",
       "    </tr>\n",
       "  </tbody>\n",
       "</table>\n",
       "<p>5 rows × 21 columns</p>\n",
       "</div>"
      ],
      "text/plain": [
       "  state  account length  area code phone number international plan  \\\n",
       "0    KS             128        415     382-4657                 no   \n",
       "1    OH             107        415     371-7191                 no   \n",
       "2    NJ             137        415     358-1921                 no   \n",
       "3    OH              84        408     375-9999                yes   \n",
       "4    OK              75        415     330-6626                yes   \n",
       "\n",
       "  voice mail plan  number vmail messages  total day minutes  total day calls  \\\n",
       "0             yes                     25              265.1              110   \n",
       "1             yes                     26              161.6              123   \n",
       "2              no                      0              243.4              114   \n",
       "3              no                      0              299.4               71   \n",
       "4              no                      0              166.7              113   \n",
       "\n",
       "   total day charge  ...  total eve calls  total eve charge  \\\n",
       "0             45.07  ...               99             16.78   \n",
       "1             27.47  ...              103             16.62   \n",
       "2             41.38  ...              110             10.30   \n",
       "3             50.90  ...               88              5.26   \n",
       "4             28.34  ...              122             12.61   \n",
       "\n",
       "   total night minutes  total night calls  total night charge  \\\n",
       "0                244.7                 91               11.01   \n",
       "1                254.4                103               11.45   \n",
       "2                162.6                104                7.32   \n",
       "3                196.9                 89                8.86   \n",
       "4                186.9                121                8.41   \n",
       "\n",
       "   total intl minutes  total intl calls  total intl charge  \\\n",
       "0                10.0                 3               2.70   \n",
       "1                13.7                 3               3.70   \n",
       "2                12.2                 5               3.29   \n",
       "3                 6.6                 7               1.78   \n",
       "4                10.1                 3               2.73   \n",
       "\n",
       "   customer service calls  churn  \n",
       "0                       1  False  \n",
       "1                       1  False  \n",
       "2                       0  False  \n",
       "3                       2  False  \n",
       "4                       3  False  \n",
       "\n",
       "[5 rows x 21 columns]"
      ]
     },
     "execution_count": 187,
     "metadata": {},
     "output_type": "execute_result"
    }
   ],
   "source": [
    "#loading the data\n",
    "df = pd.read_csv(\"bigml_59c28831336c6604c800002a.csv\")\n",
    "df.head()"
   ]
  },
  {
   "cell_type": "code",
   "execution_count": 188,
   "id": "3e9e1316",
   "metadata": {},
   "outputs": [
    {
     "data": {
      "text/plain": [
       "(3333, 21)"
      ]
     },
     "execution_count": 188,
     "metadata": {},
     "output_type": "execute_result"
    }
   ],
   "source": [
    "df.shape"
   ]
  },
  {
   "cell_type": "code",
   "execution_count": 189,
   "id": "a69cda44",
   "metadata": {},
   "outputs": [
    {
     "data": {
      "text/plain": [
       "state                     0\n",
       "account length            0\n",
       "area code                 0\n",
       "phone number              0\n",
       "international plan        0\n",
       "voice mail plan           0\n",
       "number vmail messages     0\n",
       "total day minutes         0\n",
       "total day calls           0\n",
       "total day charge          0\n",
       "total eve minutes         0\n",
       "total eve calls           0\n",
       "total eve charge          0\n",
       "total night minutes       0\n",
       "total night calls         0\n",
       "total night charge        0\n",
       "total intl minutes        0\n",
       "total intl calls          0\n",
       "total intl charge         0\n",
       "customer service calls    0\n",
       "churn                     0\n",
       "dtype: int64"
      ]
     },
     "execution_count": 189,
     "metadata": {},
     "output_type": "execute_result"
    }
   ],
   "source": [
    "## Checking for missing values\n",
    "df.isnull().sum()"
   ]
  },
  {
   "cell_type": "code",
   "execution_count": 190,
   "id": "c908315c",
   "metadata": {},
   "outputs": [
    {
     "data": {
      "text/plain": [
       "state                      object\n",
       "account length              int64\n",
       "area code                   int64\n",
       "phone number               object\n",
       "international plan         object\n",
       "voice mail plan            object\n",
       "number vmail messages       int64\n",
       "total day minutes         float64\n",
       "total day calls             int64\n",
       "total day charge          float64\n",
       "total eve minutes         float64\n",
       "total eve calls             int64\n",
       "total eve charge          float64\n",
       "total night minutes       float64\n",
       "total night calls           int64\n",
       "total night charge        float64\n",
       "total intl minutes        float64\n",
       "total intl calls            int64\n",
       "total intl charge         float64\n",
       "customer service calls      int64\n",
       "churn                        bool\n",
       "dtype: object"
      ]
     },
     "execution_count": 190,
     "metadata": {},
     "output_type": "execute_result"
    }
   ],
   "source": [
    "#checking data types\n",
    "df.dtypes"
   ]
  },
  {
   "cell_type": "code",
   "execution_count": 191,
   "id": "0aea8d1d",
   "metadata": {},
   "outputs": [
    {
     "data": {
      "text/html": [
       "<div>\n",
       "<style scoped>\n",
       "    .dataframe tbody tr th:only-of-type {\n",
       "        vertical-align: middle;\n",
       "    }\n",
       "\n",
       "    .dataframe tbody tr th {\n",
       "        vertical-align: top;\n",
       "    }\n",
       "\n",
       "    .dataframe thead th {\n",
       "        text-align: right;\n",
       "    }\n",
       "</style>\n",
       "<table border=\"1\" class=\"dataframe\">\n",
       "  <thead>\n",
       "    <tr style=\"text-align: right;\">\n",
       "      <th></th>\n",
       "      <th>account length</th>\n",
       "      <th>area code</th>\n",
       "      <th>number vmail messages</th>\n",
       "      <th>total day minutes</th>\n",
       "      <th>total day calls</th>\n",
       "      <th>total day charge</th>\n",
       "      <th>total eve minutes</th>\n",
       "      <th>total eve calls</th>\n",
       "      <th>total eve charge</th>\n",
       "      <th>total night minutes</th>\n",
       "      <th>total night calls</th>\n",
       "      <th>total night charge</th>\n",
       "      <th>total intl minutes</th>\n",
       "      <th>total intl calls</th>\n",
       "      <th>total intl charge</th>\n",
       "      <th>customer service calls</th>\n",
       "    </tr>\n",
       "  </thead>\n",
       "  <tbody>\n",
       "    <tr>\n",
       "      <th>count</th>\n",
       "      <td>3333.000000</td>\n",
       "      <td>3333.000000</td>\n",
       "      <td>3333.000000</td>\n",
       "      <td>3333.000000</td>\n",
       "      <td>3333.000000</td>\n",
       "      <td>3333.000000</td>\n",
       "      <td>3333.000000</td>\n",
       "      <td>3333.000000</td>\n",
       "      <td>3333.000000</td>\n",
       "      <td>3333.000000</td>\n",
       "      <td>3333.000000</td>\n",
       "      <td>3333.000000</td>\n",
       "      <td>3333.000000</td>\n",
       "      <td>3333.000000</td>\n",
       "      <td>3333.000000</td>\n",
       "      <td>3333.000000</td>\n",
       "    </tr>\n",
       "    <tr>\n",
       "      <th>mean</th>\n",
       "      <td>101.064806</td>\n",
       "      <td>437.182418</td>\n",
       "      <td>8.099010</td>\n",
       "      <td>179.775098</td>\n",
       "      <td>100.435644</td>\n",
       "      <td>30.562307</td>\n",
       "      <td>200.980348</td>\n",
       "      <td>100.114311</td>\n",
       "      <td>17.083540</td>\n",
       "      <td>200.872037</td>\n",
       "      <td>100.107711</td>\n",
       "      <td>9.039325</td>\n",
       "      <td>10.237294</td>\n",
       "      <td>4.479448</td>\n",
       "      <td>2.764581</td>\n",
       "      <td>1.562856</td>\n",
       "    </tr>\n",
       "    <tr>\n",
       "      <th>std</th>\n",
       "      <td>39.822106</td>\n",
       "      <td>42.371290</td>\n",
       "      <td>13.688365</td>\n",
       "      <td>54.467389</td>\n",
       "      <td>20.069084</td>\n",
       "      <td>9.259435</td>\n",
       "      <td>50.713844</td>\n",
       "      <td>19.922625</td>\n",
       "      <td>4.310668</td>\n",
       "      <td>50.573847</td>\n",
       "      <td>19.568609</td>\n",
       "      <td>2.275873</td>\n",
       "      <td>2.791840</td>\n",
       "      <td>2.461214</td>\n",
       "      <td>0.753773</td>\n",
       "      <td>1.315491</td>\n",
       "    </tr>\n",
       "    <tr>\n",
       "      <th>min</th>\n",
       "      <td>1.000000</td>\n",
       "      <td>408.000000</td>\n",
       "      <td>0.000000</td>\n",
       "      <td>0.000000</td>\n",
       "      <td>0.000000</td>\n",
       "      <td>0.000000</td>\n",
       "      <td>0.000000</td>\n",
       "      <td>0.000000</td>\n",
       "      <td>0.000000</td>\n",
       "      <td>23.200000</td>\n",
       "      <td>33.000000</td>\n",
       "      <td>1.040000</td>\n",
       "      <td>0.000000</td>\n",
       "      <td>0.000000</td>\n",
       "      <td>0.000000</td>\n",
       "      <td>0.000000</td>\n",
       "    </tr>\n",
       "    <tr>\n",
       "      <th>25%</th>\n",
       "      <td>74.000000</td>\n",
       "      <td>408.000000</td>\n",
       "      <td>0.000000</td>\n",
       "      <td>143.700000</td>\n",
       "      <td>87.000000</td>\n",
       "      <td>24.430000</td>\n",
       "      <td>166.600000</td>\n",
       "      <td>87.000000</td>\n",
       "      <td>14.160000</td>\n",
       "      <td>167.000000</td>\n",
       "      <td>87.000000</td>\n",
       "      <td>7.520000</td>\n",
       "      <td>8.500000</td>\n",
       "      <td>3.000000</td>\n",
       "      <td>2.300000</td>\n",
       "      <td>1.000000</td>\n",
       "    </tr>\n",
       "    <tr>\n",
       "      <th>50%</th>\n",
       "      <td>101.000000</td>\n",
       "      <td>415.000000</td>\n",
       "      <td>0.000000</td>\n",
       "      <td>179.400000</td>\n",
       "      <td>101.000000</td>\n",
       "      <td>30.500000</td>\n",
       "      <td>201.400000</td>\n",
       "      <td>100.000000</td>\n",
       "      <td>17.120000</td>\n",
       "      <td>201.200000</td>\n",
       "      <td>100.000000</td>\n",
       "      <td>9.050000</td>\n",
       "      <td>10.300000</td>\n",
       "      <td>4.000000</td>\n",
       "      <td>2.780000</td>\n",
       "      <td>1.000000</td>\n",
       "    </tr>\n",
       "    <tr>\n",
       "      <th>75%</th>\n",
       "      <td>127.000000</td>\n",
       "      <td>510.000000</td>\n",
       "      <td>20.000000</td>\n",
       "      <td>216.400000</td>\n",
       "      <td>114.000000</td>\n",
       "      <td>36.790000</td>\n",
       "      <td>235.300000</td>\n",
       "      <td>114.000000</td>\n",
       "      <td>20.000000</td>\n",
       "      <td>235.300000</td>\n",
       "      <td>113.000000</td>\n",
       "      <td>10.590000</td>\n",
       "      <td>12.100000</td>\n",
       "      <td>6.000000</td>\n",
       "      <td>3.270000</td>\n",
       "      <td>2.000000</td>\n",
       "    </tr>\n",
       "    <tr>\n",
       "      <th>max</th>\n",
       "      <td>243.000000</td>\n",
       "      <td>510.000000</td>\n",
       "      <td>51.000000</td>\n",
       "      <td>350.800000</td>\n",
       "      <td>165.000000</td>\n",
       "      <td>59.640000</td>\n",
       "      <td>363.700000</td>\n",
       "      <td>170.000000</td>\n",
       "      <td>30.910000</td>\n",
       "      <td>395.000000</td>\n",
       "      <td>175.000000</td>\n",
       "      <td>17.770000</td>\n",
       "      <td>20.000000</td>\n",
       "      <td>20.000000</td>\n",
       "      <td>5.400000</td>\n",
       "      <td>9.000000</td>\n",
       "    </tr>\n",
       "  </tbody>\n",
       "</table>\n",
       "</div>"
      ],
      "text/plain": [
       "       account length    area code  number vmail messages  total day minutes  \\\n",
       "count     3333.000000  3333.000000            3333.000000        3333.000000   \n",
       "mean       101.064806   437.182418               8.099010         179.775098   \n",
       "std         39.822106    42.371290              13.688365          54.467389   \n",
       "min          1.000000   408.000000               0.000000           0.000000   \n",
       "25%         74.000000   408.000000               0.000000         143.700000   \n",
       "50%        101.000000   415.000000               0.000000         179.400000   \n",
       "75%        127.000000   510.000000              20.000000         216.400000   \n",
       "max        243.000000   510.000000              51.000000         350.800000   \n",
       "\n",
       "       total day calls  total day charge  total eve minutes  total eve calls  \\\n",
       "count      3333.000000       3333.000000        3333.000000      3333.000000   \n",
       "mean        100.435644         30.562307         200.980348       100.114311   \n",
       "std          20.069084          9.259435          50.713844        19.922625   \n",
       "min           0.000000          0.000000           0.000000         0.000000   \n",
       "25%          87.000000         24.430000         166.600000        87.000000   \n",
       "50%         101.000000         30.500000         201.400000       100.000000   \n",
       "75%         114.000000         36.790000         235.300000       114.000000   \n",
       "max         165.000000         59.640000         363.700000       170.000000   \n",
       "\n",
       "       total eve charge  total night minutes  total night calls  \\\n",
       "count       3333.000000          3333.000000        3333.000000   \n",
       "mean          17.083540           200.872037         100.107711   \n",
       "std            4.310668            50.573847          19.568609   \n",
       "min            0.000000            23.200000          33.000000   \n",
       "25%           14.160000           167.000000          87.000000   \n",
       "50%           17.120000           201.200000         100.000000   \n",
       "75%           20.000000           235.300000         113.000000   \n",
       "max           30.910000           395.000000         175.000000   \n",
       "\n",
       "       total night charge  total intl minutes  total intl calls  \\\n",
       "count         3333.000000         3333.000000       3333.000000   \n",
       "mean             9.039325           10.237294          4.479448   \n",
       "std              2.275873            2.791840          2.461214   \n",
       "min              1.040000            0.000000          0.000000   \n",
       "25%              7.520000            8.500000          3.000000   \n",
       "50%              9.050000           10.300000          4.000000   \n",
       "75%             10.590000           12.100000          6.000000   \n",
       "max             17.770000           20.000000         20.000000   \n",
       "\n",
       "       total intl charge  customer service calls  \n",
       "count        3333.000000             3333.000000  \n",
       "mean            2.764581                1.562856  \n",
       "std             0.753773                1.315491  \n",
       "min             0.000000                0.000000  \n",
       "25%             2.300000                1.000000  \n",
       "50%             2.780000                1.000000  \n",
       "75%             3.270000                2.000000  \n",
       "max             5.400000                9.000000  "
      ]
     },
     "execution_count": 191,
     "metadata": {},
     "output_type": "execute_result"
    }
   ],
   "source": [
    "df.describe()"
   ]
  },
  {
   "cell_type": "code",
   "execution_count": 192,
   "id": "4fea4100",
   "metadata": {},
   "outputs": [
    {
     "data": {
      "text/plain": [
       "state  account length  area code  phone number  international plan  voice mail plan  number vmail messages  total day minutes  total day calls  total day charge  total eve minutes  total eve calls  total eve charge  total night minutes  total night calls  total night charge  total intl minutes  total intl calls  total intl charge  customer service calls  churn\n",
       "WY     225             415        374-1213      no                  no               0                      182.7              142              31.06             246.5              63               20.95             218.0                103                9.81                8.8                 2                 2.38               1                       False    1\n",
       "MD     121             510        369-5526      no                  no               0                      190.7              103              32.42             183.5              117              15.60             220.8                103                9.94                9.8                 4                 2.65               3                       False    1\n",
       "LA     121             408        390-8760      no                  no               0                      181.5              121              30.86             218.4              98               18.56             161.6                103                7.27                8.5                 5                 2.30               1                       False    1\n",
       "       118             408        405-9496      no                  no               0                      187.4              97               31.86             177.8              89               15.11             233.4                97                 10.50               12.2                6                 3.29               1                       False    1\n",
       "       117             408        335-4719      no                  no               0                      184.5              97               31.37             351.6              80               29.89             215.8                90                 9.71                8.7                 4                 2.35               1                       False    1\n",
       "                                                                                                                                                                                                                                                                                                                                                                             ..\n",
       "OH     61              510        327-5525      yes                 yes              16                     143.5              76               24.40             242.6              58               20.62             147.7                95                 6.65                11.3                3                 3.05               0                       False    1\n",
       "       56              408        349-2654      no                  no               0                      91.1               90               15.49             179.3              115              15.24             300.7                89                 13.53               11.9                8                 3.21               2                       False    1\n",
       "       52              408        327-9289      no                  yes              31                     142.1              77               24.16             193.0              97               16.41             253.4                88                 11.40               11.0                4                 2.97               1                       False    1\n",
       "       39              415        421-9752      no                  yes              36                     141.7              121              24.09             232.3              113              19.75             222.1                131                9.99                12.0                5                 3.24               1                       False    1\n",
       "AK     1               408        373-1028      no                  no               0                      175.2              74               29.78             151.7              79               12.89             230.5                109                10.37               5.3                 3                 1.43               1                       False    1\n",
       "Length: 3333, dtype: int64"
      ]
     },
     "execution_count": 192,
     "metadata": {},
     "output_type": "execute_result"
    }
   ],
   "source": [
    "df.value_counts()"
   ]
  },
  {
   "cell_type": "markdown",
   "id": "a6240ef3",
   "metadata": {},
   "source": [
    "The data set has 3333 rows and 21 columns.It does not also have missing values.\n",
    "Ideally data cleaning would have come after the split of the train and test data sets to prevent data leakage,hence the above is just a check."
   ]
  },
  {
   "cell_type": "markdown",
   "id": "8c840654",
   "metadata": {},
   "source": [
    "### iv) Splitting data into train and test data sets"
   ]
  },
  {
   "cell_type": "code",
   "execution_count": 193,
   "id": "1c4f4400",
   "metadata": {},
   "outputs": [],
   "source": [
    "#splitting of data set into train and test groups\n",
    "y = df['churn']\n",
    "X = df.drop(['churn'],axis=1)\n",
    "X_train,X_test,y_train,y_test = train_test_split(X,y,test_size=0.2,random_state=42)"
   ]
  },
  {
   "cell_type": "code",
   "execution_count": 194,
   "id": "d3919286",
   "metadata": {},
   "outputs": [
    {
     "data": {
      "text/html": [
       "<div>\n",
       "<style scoped>\n",
       "    .dataframe tbody tr th:only-of-type {\n",
       "        vertical-align: middle;\n",
       "    }\n",
       "\n",
       "    .dataframe tbody tr th {\n",
       "        vertical-align: top;\n",
       "    }\n",
       "\n",
       "    .dataframe thead th {\n",
       "        text-align: right;\n",
       "    }\n",
       "</style>\n",
       "<table border=\"1\" class=\"dataframe\">\n",
       "  <thead>\n",
       "    <tr style=\"text-align: right;\">\n",
       "      <th></th>\n",
       "      <th>state</th>\n",
       "      <th>account length</th>\n",
       "      <th>area code</th>\n",
       "      <th>phone number</th>\n",
       "      <th>international plan</th>\n",
       "      <th>voice mail plan</th>\n",
       "      <th>number vmail messages</th>\n",
       "      <th>total day minutes</th>\n",
       "      <th>total day calls</th>\n",
       "      <th>total day charge</th>\n",
       "      <th>total eve minutes</th>\n",
       "      <th>total eve calls</th>\n",
       "      <th>total eve charge</th>\n",
       "      <th>total night minutes</th>\n",
       "      <th>total night calls</th>\n",
       "      <th>total night charge</th>\n",
       "      <th>total intl minutes</th>\n",
       "      <th>total intl calls</th>\n",
       "      <th>total intl charge</th>\n",
       "      <th>customer service calls</th>\n",
       "    </tr>\n",
       "  </thead>\n",
       "  <tbody>\n",
       "    <tr>\n",
       "      <th>817</th>\n",
       "      <td>UT</td>\n",
       "      <td>243</td>\n",
       "      <td>510</td>\n",
       "      <td>355-9360</td>\n",
       "      <td>no</td>\n",
       "      <td>no</td>\n",
       "      <td>0</td>\n",
       "      <td>95.5</td>\n",
       "      <td>92</td>\n",
       "      <td>16.24</td>\n",
       "      <td>163.7</td>\n",
       "      <td>63</td>\n",
       "      <td>13.91</td>\n",
       "      <td>264.2</td>\n",
       "      <td>118</td>\n",
       "      <td>11.89</td>\n",
       "      <td>6.6</td>\n",
       "      <td>6</td>\n",
       "      <td>1.78</td>\n",
       "      <td>2</td>\n",
       "    </tr>\n",
       "    <tr>\n",
       "      <th>1373</th>\n",
       "      <td>SC</td>\n",
       "      <td>108</td>\n",
       "      <td>415</td>\n",
       "      <td>399-6233</td>\n",
       "      <td>no</td>\n",
       "      <td>no</td>\n",
       "      <td>0</td>\n",
       "      <td>112.0</td>\n",
       "      <td>105</td>\n",
       "      <td>19.04</td>\n",
       "      <td>193.7</td>\n",
       "      <td>110</td>\n",
       "      <td>16.46</td>\n",
       "      <td>208.9</td>\n",
       "      <td>93</td>\n",
       "      <td>9.40</td>\n",
       "      <td>4.1</td>\n",
       "      <td>4</td>\n",
       "      <td>1.11</td>\n",
       "      <td>4</td>\n",
       "    </tr>\n",
       "    <tr>\n",
       "      <th>679</th>\n",
       "      <td>TX</td>\n",
       "      <td>75</td>\n",
       "      <td>415</td>\n",
       "      <td>384-2372</td>\n",
       "      <td>yes</td>\n",
       "      <td>no</td>\n",
       "      <td>0</td>\n",
       "      <td>222.4</td>\n",
       "      <td>78</td>\n",
       "      <td>37.81</td>\n",
       "      <td>327.0</td>\n",
       "      <td>111</td>\n",
       "      <td>27.80</td>\n",
       "      <td>208.0</td>\n",
       "      <td>104</td>\n",
       "      <td>9.36</td>\n",
       "      <td>8.7</td>\n",
       "      <td>9</td>\n",
       "      <td>2.35</td>\n",
       "      <td>1</td>\n",
       "    </tr>\n",
       "    <tr>\n",
       "      <th>56</th>\n",
       "      <td>CO</td>\n",
       "      <td>141</td>\n",
       "      <td>415</td>\n",
       "      <td>340-5121</td>\n",
       "      <td>no</td>\n",
       "      <td>no</td>\n",
       "      <td>0</td>\n",
       "      <td>126.9</td>\n",
       "      <td>98</td>\n",
       "      <td>21.57</td>\n",
       "      <td>180.0</td>\n",
       "      <td>62</td>\n",
       "      <td>15.30</td>\n",
       "      <td>140.8</td>\n",
       "      <td>128</td>\n",
       "      <td>6.34</td>\n",
       "      <td>8.0</td>\n",
       "      <td>2</td>\n",
       "      <td>2.16</td>\n",
       "      <td>1</td>\n",
       "    </tr>\n",
       "    <tr>\n",
       "      <th>1993</th>\n",
       "      <td>IN</td>\n",
       "      <td>86</td>\n",
       "      <td>510</td>\n",
       "      <td>357-7893</td>\n",
       "      <td>no</td>\n",
       "      <td>no</td>\n",
       "      <td>0</td>\n",
       "      <td>216.3</td>\n",
       "      <td>96</td>\n",
       "      <td>36.77</td>\n",
       "      <td>266.3</td>\n",
       "      <td>77</td>\n",
       "      <td>22.64</td>\n",
       "      <td>214.0</td>\n",
       "      <td>110</td>\n",
       "      <td>9.63</td>\n",
       "      <td>4.5</td>\n",
       "      <td>3</td>\n",
       "      <td>1.22</td>\n",
       "      <td>0</td>\n",
       "    </tr>\n",
       "    <tr>\n",
       "      <th>...</th>\n",
       "      <td>...</td>\n",
       "      <td>...</td>\n",
       "      <td>...</td>\n",
       "      <td>...</td>\n",
       "      <td>...</td>\n",
       "      <td>...</td>\n",
       "      <td>...</td>\n",
       "      <td>...</td>\n",
       "      <td>...</td>\n",
       "      <td>...</td>\n",
       "      <td>...</td>\n",
       "      <td>...</td>\n",
       "      <td>...</td>\n",
       "      <td>...</td>\n",
       "      <td>...</td>\n",
       "      <td>...</td>\n",
       "      <td>...</td>\n",
       "      <td>...</td>\n",
       "      <td>...</td>\n",
       "      <td>...</td>\n",
       "    </tr>\n",
       "    <tr>\n",
       "      <th>1095</th>\n",
       "      <td>ID</td>\n",
       "      <td>106</td>\n",
       "      <td>510</td>\n",
       "      <td>383-2566</td>\n",
       "      <td>no</td>\n",
       "      <td>no</td>\n",
       "      <td>0</td>\n",
       "      <td>274.4</td>\n",
       "      <td>120</td>\n",
       "      <td>46.65</td>\n",
       "      <td>198.6</td>\n",
       "      <td>82</td>\n",
       "      <td>16.88</td>\n",
       "      <td>160.8</td>\n",
       "      <td>62</td>\n",
       "      <td>7.24</td>\n",
       "      <td>6.0</td>\n",
       "      <td>3</td>\n",
       "      <td>1.62</td>\n",
       "      <td>1</td>\n",
       "    </tr>\n",
       "    <tr>\n",
       "      <th>1130</th>\n",
       "      <td>PA</td>\n",
       "      <td>122</td>\n",
       "      <td>415</td>\n",
       "      <td>361-5225</td>\n",
       "      <td>no</td>\n",
       "      <td>no</td>\n",
       "      <td>0</td>\n",
       "      <td>35.1</td>\n",
       "      <td>62</td>\n",
       "      <td>5.97</td>\n",
       "      <td>180.8</td>\n",
       "      <td>89</td>\n",
       "      <td>15.37</td>\n",
       "      <td>251.6</td>\n",
       "      <td>58</td>\n",
       "      <td>11.32</td>\n",
       "      <td>12.7</td>\n",
       "      <td>2</td>\n",
       "      <td>3.43</td>\n",
       "      <td>1</td>\n",
       "    </tr>\n",
       "    <tr>\n",
       "      <th>1294</th>\n",
       "      <td>OR</td>\n",
       "      <td>66</td>\n",
       "      <td>408</td>\n",
       "      <td>348-7409</td>\n",
       "      <td>no</td>\n",
       "      <td>no</td>\n",
       "      <td>0</td>\n",
       "      <td>87.6</td>\n",
       "      <td>76</td>\n",
       "      <td>14.89</td>\n",
       "      <td>262.0</td>\n",
       "      <td>111</td>\n",
       "      <td>22.27</td>\n",
       "      <td>184.6</td>\n",
       "      <td>125</td>\n",
       "      <td>8.31</td>\n",
       "      <td>9.2</td>\n",
       "      <td>5</td>\n",
       "      <td>2.48</td>\n",
       "      <td>1</td>\n",
       "    </tr>\n",
       "    <tr>\n",
       "      <th>860</th>\n",
       "      <td>HI</td>\n",
       "      <td>169</td>\n",
       "      <td>415</td>\n",
       "      <td>334-3289</td>\n",
       "      <td>no</td>\n",
       "      <td>no</td>\n",
       "      <td>0</td>\n",
       "      <td>179.2</td>\n",
       "      <td>111</td>\n",
       "      <td>30.46</td>\n",
       "      <td>175.2</td>\n",
       "      <td>130</td>\n",
       "      <td>14.89</td>\n",
       "      <td>228.6</td>\n",
       "      <td>92</td>\n",
       "      <td>10.29</td>\n",
       "      <td>9.9</td>\n",
       "      <td>6</td>\n",
       "      <td>2.67</td>\n",
       "      <td>2</td>\n",
       "    </tr>\n",
       "    <tr>\n",
       "      <th>3174</th>\n",
       "      <td>SC</td>\n",
       "      <td>36</td>\n",
       "      <td>408</td>\n",
       "      <td>359-5091</td>\n",
       "      <td>no</td>\n",
       "      <td>yes</td>\n",
       "      <td>43</td>\n",
       "      <td>29.9</td>\n",
       "      <td>123</td>\n",
       "      <td>5.08</td>\n",
       "      <td>129.1</td>\n",
       "      <td>117</td>\n",
       "      <td>10.97</td>\n",
       "      <td>325.9</td>\n",
       "      <td>105</td>\n",
       "      <td>14.67</td>\n",
       "      <td>8.6</td>\n",
       "      <td>6</td>\n",
       "      <td>2.32</td>\n",
       "      <td>2</td>\n",
       "    </tr>\n",
       "  </tbody>\n",
       "</table>\n",
       "<p>2666 rows × 20 columns</p>\n",
       "</div>"
      ],
      "text/plain": [
       "     state  account length  area code phone number international plan  \\\n",
       "817     UT             243        510     355-9360                 no   \n",
       "1373    SC             108        415     399-6233                 no   \n",
       "679     TX              75        415     384-2372                yes   \n",
       "56      CO             141        415     340-5121                 no   \n",
       "1993    IN              86        510     357-7893                 no   \n",
       "...    ...             ...        ...          ...                ...   \n",
       "1095    ID             106        510     383-2566                 no   \n",
       "1130    PA             122        415     361-5225                 no   \n",
       "1294    OR              66        408     348-7409                 no   \n",
       "860     HI             169        415     334-3289                 no   \n",
       "3174    SC              36        408     359-5091                 no   \n",
       "\n",
       "     voice mail plan  number vmail messages  total day minutes  \\\n",
       "817               no                      0               95.5   \n",
       "1373              no                      0              112.0   \n",
       "679               no                      0              222.4   \n",
       "56                no                      0              126.9   \n",
       "1993              no                      0              216.3   \n",
       "...              ...                    ...                ...   \n",
       "1095              no                      0              274.4   \n",
       "1130              no                      0               35.1   \n",
       "1294              no                      0               87.6   \n",
       "860               no                      0              179.2   \n",
       "3174             yes                     43               29.9   \n",
       "\n",
       "      total day calls  total day charge  total eve minutes  total eve calls  \\\n",
       "817                92             16.24              163.7               63   \n",
       "1373              105             19.04              193.7              110   \n",
       "679                78             37.81              327.0              111   \n",
       "56                 98             21.57              180.0               62   \n",
       "1993               96             36.77              266.3               77   \n",
       "...               ...               ...                ...              ...   \n",
       "1095              120             46.65              198.6               82   \n",
       "1130               62              5.97              180.8               89   \n",
       "1294               76             14.89              262.0              111   \n",
       "860               111             30.46              175.2              130   \n",
       "3174              123              5.08              129.1              117   \n",
       "\n",
       "      total eve charge  total night minutes  total night calls  \\\n",
       "817              13.91                264.2                118   \n",
       "1373             16.46                208.9                 93   \n",
       "679              27.80                208.0                104   \n",
       "56               15.30                140.8                128   \n",
       "1993             22.64                214.0                110   \n",
       "...                ...                  ...                ...   \n",
       "1095             16.88                160.8                 62   \n",
       "1130             15.37                251.6                 58   \n",
       "1294             22.27                184.6                125   \n",
       "860              14.89                228.6                 92   \n",
       "3174             10.97                325.9                105   \n",
       "\n",
       "      total night charge  total intl minutes  total intl calls  \\\n",
       "817                11.89                 6.6                 6   \n",
       "1373                9.40                 4.1                 4   \n",
       "679                 9.36                 8.7                 9   \n",
       "56                  6.34                 8.0                 2   \n",
       "1993                9.63                 4.5                 3   \n",
       "...                  ...                 ...               ...   \n",
       "1095                7.24                 6.0                 3   \n",
       "1130               11.32                12.7                 2   \n",
       "1294                8.31                 9.2                 5   \n",
       "860                10.29                 9.9                 6   \n",
       "3174               14.67                 8.6                 6   \n",
       "\n",
       "      total intl charge  customer service calls  \n",
       "817                1.78                       2  \n",
       "1373               1.11                       4  \n",
       "679                2.35                       1  \n",
       "56                 2.16                       1  \n",
       "1993               1.22                       0  \n",
       "...                 ...                     ...  \n",
       "1095               1.62                       1  \n",
       "1130               3.43                       1  \n",
       "1294               2.48                       1  \n",
       "860                2.67                       2  \n",
       "3174               2.32                       2  \n",
       "\n",
       "[2666 rows x 20 columns]"
      ]
     },
     "execution_count": 194,
     "metadata": {},
     "output_type": "execute_result"
    }
   ],
   "source": [
    "X_train"
   ]
  },
  {
   "cell_type": "code",
   "execution_count": 195,
   "id": "8df61258",
   "metadata": {},
   "outputs": [
    {
     "data": {
      "text/html": [
       "<div>\n",
       "<style scoped>\n",
       "    .dataframe tbody tr th:only-of-type {\n",
       "        vertical-align: middle;\n",
       "    }\n",
       "\n",
       "    .dataframe tbody tr th {\n",
       "        vertical-align: top;\n",
       "    }\n",
       "\n",
       "    .dataframe thead th {\n",
       "        text-align: right;\n",
       "    }\n",
       "</style>\n",
       "<table border=\"1\" class=\"dataframe\">\n",
       "  <thead>\n",
       "    <tr style=\"text-align: right;\">\n",
       "      <th></th>\n",
       "      <th>state</th>\n",
       "      <th>account length</th>\n",
       "      <th>area code</th>\n",
       "      <th>phone number</th>\n",
       "      <th>international plan</th>\n",
       "      <th>voice mail plan</th>\n",
       "      <th>number vmail messages</th>\n",
       "      <th>total day minutes</th>\n",
       "      <th>total day calls</th>\n",
       "      <th>total day charge</th>\n",
       "      <th>total eve minutes</th>\n",
       "      <th>total eve calls</th>\n",
       "      <th>total eve charge</th>\n",
       "      <th>total night minutes</th>\n",
       "      <th>total night calls</th>\n",
       "      <th>total night charge</th>\n",
       "      <th>total intl minutes</th>\n",
       "      <th>total intl calls</th>\n",
       "      <th>total intl charge</th>\n",
       "      <th>customer service calls</th>\n",
       "    </tr>\n",
       "  </thead>\n",
       "  <tbody>\n",
       "    <tr>\n",
       "      <th>438</th>\n",
       "      <td>WY</td>\n",
       "      <td>113</td>\n",
       "      <td>510</td>\n",
       "      <td>352-6573</td>\n",
       "      <td>no</td>\n",
       "      <td>no</td>\n",
       "      <td>0</td>\n",
       "      <td>155.0</td>\n",
       "      <td>93</td>\n",
       "      <td>26.35</td>\n",
       "      <td>330.6</td>\n",
       "      <td>106</td>\n",
       "      <td>28.10</td>\n",
       "      <td>189.4</td>\n",
       "      <td>123</td>\n",
       "      <td>8.52</td>\n",
       "      <td>13.5</td>\n",
       "      <td>3</td>\n",
       "      <td>3.65</td>\n",
       "      <td>1</td>\n",
       "    </tr>\n",
       "    <tr>\n",
       "      <th>2674</th>\n",
       "      <td>IL</td>\n",
       "      <td>67</td>\n",
       "      <td>415</td>\n",
       "      <td>369-4377</td>\n",
       "      <td>no</td>\n",
       "      <td>no</td>\n",
       "      <td>0</td>\n",
       "      <td>109.1</td>\n",
       "      <td>117</td>\n",
       "      <td>18.55</td>\n",
       "      <td>217.4</td>\n",
       "      <td>124</td>\n",
       "      <td>18.48</td>\n",
       "      <td>188.4</td>\n",
       "      <td>141</td>\n",
       "      <td>8.48</td>\n",
       "      <td>12.8</td>\n",
       "      <td>6</td>\n",
       "      <td>3.46</td>\n",
       "      <td>0</td>\n",
       "    </tr>\n",
       "    <tr>\n",
       "      <th>1345</th>\n",
       "      <td>SD</td>\n",
       "      <td>98</td>\n",
       "      <td>415</td>\n",
       "      <td>392-2555</td>\n",
       "      <td>no</td>\n",
       "      <td>no</td>\n",
       "      <td>0</td>\n",
       "      <td>0.0</td>\n",
       "      <td>0</td>\n",
       "      <td>0.00</td>\n",
       "      <td>159.6</td>\n",
       "      <td>130</td>\n",
       "      <td>13.57</td>\n",
       "      <td>167.1</td>\n",
       "      <td>88</td>\n",
       "      <td>7.52</td>\n",
       "      <td>6.8</td>\n",
       "      <td>1</td>\n",
       "      <td>1.84</td>\n",
       "      <td>4</td>\n",
       "    </tr>\n",
       "    <tr>\n",
       "      <th>1957</th>\n",
       "      <td>KY</td>\n",
       "      <td>147</td>\n",
       "      <td>408</td>\n",
       "      <td>396-2945</td>\n",
       "      <td>no</td>\n",
       "      <td>no</td>\n",
       "      <td>0</td>\n",
       "      <td>212.8</td>\n",
       "      <td>79</td>\n",
       "      <td>36.18</td>\n",
       "      <td>204.1</td>\n",
       "      <td>91</td>\n",
       "      <td>17.35</td>\n",
       "      <td>156.2</td>\n",
       "      <td>113</td>\n",
       "      <td>7.03</td>\n",
       "      <td>10.2</td>\n",
       "      <td>2</td>\n",
       "      <td>2.75</td>\n",
       "      <td>1</td>\n",
       "    </tr>\n",
       "    <tr>\n",
       "      <th>2148</th>\n",
       "      <td>WY</td>\n",
       "      <td>96</td>\n",
       "      <td>408</td>\n",
       "      <td>329-2045</td>\n",
       "      <td>no</td>\n",
       "      <td>no</td>\n",
       "      <td>0</td>\n",
       "      <td>144.0</td>\n",
       "      <td>102</td>\n",
       "      <td>24.48</td>\n",
       "      <td>224.7</td>\n",
       "      <td>73</td>\n",
       "      <td>19.10</td>\n",
       "      <td>227.7</td>\n",
       "      <td>91</td>\n",
       "      <td>10.25</td>\n",
       "      <td>10.0</td>\n",
       "      <td>7</td>\n",
       "      <td>2.70</td>\n",
       "      <td>1</td>\n",
       "    </tr>\n",
       "    <tr>\n",
       "      <th>...</th>\n",
       "      <td>...</td>\n",
       "      <td>...</td>\n",
       "      <td>...</td>\n",
       "      <td>...</td>\n",
       "      <td>...</td>\n",
       "      <td>...</td>\n",
       "      <td>...</td>\n",
       "      <td>...</td>\n",
       "      <td>...</td>\n",
       "      <td>...</td>\n",
       "      <td>...</td>\n",
       "      <td>...</td>\n",
       "      <td>...</td>\n",
       "      <td>...</td>\n",
       "      <td>...</td>\n",
       "      <td>...</td>\n",
       "      <td>...</td>\n",
       "      <td>...</td>\n",
       "      <td>...</td>\n",
       "      <td>...</td>\n",
       "    </tr>\n",
       "    <tr>\n",
       "      <th>2577</th>\n",
       "      <td>MN</td>\n",
       "      <td>157</td>\n",
       "      <td>510</td>\n",
       "      <td>372-6920</td>\n",
       "      <td>no</td>\n",
       "      <td>no</td>\n",
       "      <td>0</td>\n",
       "      <td>185.1</td>\n",
       "      <td>92</td>\n",
       "      <td>31.47</td>\n",
       "      <td>213.0</td>\n",
       "      <td>85</td>\n",
       "      <td>18.11</td>\n",
       "      <td>196.1</td>\n",
       "      <td>85</td>\n",
       "      <td>8.82</td>\n",
       "      <td>8.5</td>\n",
       "      <td>5</td>\n",
       "      <td>2.30</td>\n",
       "      <td>2</td>\n",
       "    </tr>\n",
       "    <tr>\n",
       "      <th>2763</th>\n",
       "      <td>NC</td>\n",
       "      <td>116</td>\n",
       "      <td>408</td>\n",
       "      <td>338-7527</td>\n",
       "      <td>no</td>\n",
       "      <td>yes</td>\n",
       "      <td>19</td>\n",
       "      <td>155.7</td>\n",
       "      <td>104</td>\n",
       "      <td>26.47</td>\n",
       "      <td>185.4</td>\n",
       "      <td>118</td>\n",
       "      <td>15.76</td>\n",
       "      <td>192.7</td>\n",
       "      <td>116</td>\n",
       "      <td>8.67</td>\n",
       "      <td>8.2</td>\n",
       "      <td>2</td>\n",
       "      <td>2.21</td>\n",
       "      <td>3</td>\n",
       "    </tr>\n",
       "    <tr>\n",
       "      <th>3069</th>\n",
       "      <td>IN</td>\n",
       "      <td>148</td>\n",
       "      <td>415</td>\n",
       "      <td>371-2418</td>\n",
       "      <td>no</td>\n",
       "      <td>yes</td>\n",
       "      <td>26</td>\n",
       "      <td>158.7</td>\n",
       "      <td>91</td>\n",
       "      <td>26.98</td>\n",
       "      <td>160.5</td>\n",
       "      <td>127</td>\n",
       "      <td>13.64</td>\n",
       "      <td>218.3</td>\n",
       "      <td>88</td>\n",
       "      <td>9.82</td>\n",
       "      <td>9.9</td>\n",
       "      <td>3</td>\n",
       "      <td>2.67</td>\n",
       "      <td>1</td>\n",
       "    </tr>\n",
       "    <tr>\n",
       "      <th>1468</th>\n",
       "      <td>OH</td>\n",
       "      <td>75</td>\n",
       "      <td>510</td>\n",
       "      <td>372-2296</td>\n",
       "      <td>no</td>\n",
       "      <td>yes</td>\n",
       "      <td>27</td>\n",
       "      <td>117.5</td>\n",
       "      <td>102</td>\n",
       "      <td>19.98</td>\n",
       "      <td>206.8</td>\n",
       "      <td>127</td>\n",
       "      <td>17.58</td>\n",
       "      <td>194.4</td>\n",
       "      <td>114</td>\n",
       "      <td>8.75</td>\n",
       "      <td>4.2</td>\n",
       "      <td>7</td>\n",
       "      <td>1.13</td>\n",
       "      <td>3</td>\n",
       "    </tr>\n",
       "    <tr>\n",
       "      <th>582</th>\n",
       "      <td>NM</td>\n",
       "      <td>104</td>\n",
       "      <td>415</td>\n",
       "      <td>356-7217</td>\n",
       "      <td>no</td>\n",
       "      <td>no</td>\n",
       "      <td>0</td>\n",
       "      <td>164.2</td>\n",
       "      <td>109</td>\n",
       "      <td>27.91</td>\n",
       "      <td>155.4</td>\n",
       "      <td>90</td>\n",
       "      <td>13.21</td>\n",
       "      <td>168.9</td>\n",
       "      <td>117</td>\n",
       "      <td>7.60</td>\n",
       "      <td>10.7</td>\n",
       "      <td>8</td>\n",
       "      <td>2.89</td>\n",
       "      <td>1</td>\n",
       "    </tr>\n",
       "  </tbody>\n",
       "</table>\n",
       "<p>667 rows × 20 columns</p>\n",
       "</div>"
      ],
      "text/plain": [
       "     state  account length  area code phone number international plan  \\\n",
       "438     WY             113        510     352-6573                 no   \n",
       "2674    IL              67        415     369-4377                 no   \n",
       "1345    SD              98        415     392-2555                 no   \n",
       "1957    KY             147        408     396-2945                 no   \n",
       "2148    WY              96        408     329-2045                 no   \n",
       "...    ...             ...        ...          ...                ...   \n",
       "2577    MN             157        510     372-6920                 no   \n",
       "2763    NC             116        408     338-7527                 no   \n",
       "3069    IN             148        415     371-2418                 no   \n",
       "1468    OH              75        510     372-2296                 no   \n",
       "582     NM             104        415     356-7217                 no   \n",
       "\n",
       "     voice mail plan  number vmail messages  total day minutes  \\\n",
       "438               no                      0              155.0   \n",
       "2674              no                      0              109.1   \n",
       "1345              no                      0                0.0   \n",
       "1957              no                      0              212.8   \n",
       "2148              no                      0              144.0   \n",
       "...              ...                    ...                ...   \n",
       "2577              no                      0              185.1   \n",
       "2763             yes                     19              155.7   \n",
       "3069             yes                     26              158.7   \n",
       "1468             yes                     27              117.5   \n",
       "582               no                      0              164.2   \n",
       "\n",
       "      total day calls  total day charge  total eve minutes  total eve calls  \\\n",
       "438                93             26.35              330.6              106   \n",
       "2674              117             18.55              217.4              124   \n",
       "1345                0              0.00              159.6              130   \n",
       "1957               79             36.18              204.1               91   \n",
       "2148              102             24.48              224.7               73   \n",
       "...               ...               ...                ...              ...   \n",
       "2577               92             31.47              213.0               85   \n",
       "2763              104             26.47              185.4              118   \n",
       "3069               91             26.98              160.5              127   \n",
       "1468              102             19.98              206.8              127   \n",
       "582               109             27.91              155.4               90   \n",
       "\n",
       "      total eve charge  total night minutes  total night calls  \\\n",
       "438              28.10                189.4                123   \n",
       "2674             18.48                188.4                141   \n",
       "1345             13.57                167.1                 88   \n",
       "1957             17.35                156.2                113   \n",
       "2148             19.10                227.7                 91   \n",
       "...                ...                  ...                ...   \n",
       "2577             18.11                196.1                 85   \n",
       "2763             15.76                192.7                116   \n",
       "3069             13.64                218.3                 88   \n",
       "1468             17.58                194.4                114   \n",
       "582              13.21                168.9                117   \n",
       "\n",
       "      total night charge  total intl minutes  total intl calls  \\\n",
       "438                 8.52                13.5                 3   \n",
       "2674                8.48                12.8                 6   \n",
       "1345                7.52                 6.8                 1   \n",
       "1957                7.03                10.2                 2   \n",
       "2148               10.25                10.0                 7   \n",
       "...                  ...                 ...               ...   \n",
       "2577                8.82                 8.5                 5   \n",
       "2763                8.67                 8.2                 2   \n",
       "3069                9.82                 9.9                 3   \n",
       "1468                8.75                 4.2                 7   \n",
       "582                 7.60                10.7                 8   \n",
       "\n",
       "      total intl charge  customer service calls  \n",
       "438                3.65                       1  \n",
       "2674               3.46                       0  \n",
       "1345               1.84                       4  \n",
       "1957               2.75                       1  \n",
       "2148               2.70                       1  \n",
       "...                 ...                     ...  \n",
       "2577               2.30                       2  \n",
       "2763               2.21                       3  \n",
       "3069               2.67                       1  \n",
       "1468               1.13                       3  \n",
       "582                2.89                       1  \n",
       "\n",
       "[667 rows x 20 columns]"
      ]
     },
     "execution_count": 195,
     "metadata": {},
     "output_type": "execute_result"
    }
   ],
   "source": [
    "X_test"
   ]
  },
  {
   "cell_type": "code",
   "execution_count": 196,
   "id": "420ad2b8",
   "metadata": {},
   "outputs": [
    {
     "data": {
      "text/plain": [
       "817     False\n",
       "1373     True\n",
       "679      True\n",
       "56      False\n",
       "1993    False\n",
       "        ...  \n",
       "1095    False\n",
       "1130    False\n",
       "1294    False\n",
       "860     False\n",
       "3174    False\n",
       "Name: churn, Length: 2666, dtype: bool"
      ]
     },
     "execution_count": 196,
     "metadata": {},
     "output_type": "execute_result"
    }
   ],
   "source": [
    "y_train"
   ]
  },
  {
   "cell_type": "code",
   "execution_count": 197,
   "id": "ed6e9884",
   "metadata": {},
   "outputs": [
    {
     "data": {
      "text/plain": [
       "438     False\n",
       "2674    False\n",
       "1345     True\n",
       "1957    False\n",
       "2148    False\n",
       "        ...  \n",
       "2577    False\n",
       "2763    False\n",
       "3069    False\n",
       "1468    False\n",
       "582     False\n",
       "Name: churn, Length: 667, dtype: bool"
      ]
     },
     "execution_count": 197,
     "metadata": {},
     "output_type": "execute_result"
    }
   ],
   "source": [
    "y_test"
   ]
  },
  {
   "cell_type": "markdown",
   "id": "1250aebd",
   "metadata": {},
   "source": [
    "### v) Data Preprocessing"
   ]
  },
  {
   "cell_type": "code",
   "execution_count": 198,
   "id": "e0100047",
   "metadata": {},
   "outputs": [
    {
     "data": {
      "text/plain": [
       "(2666, 20)"
      ]
     },
     "execution_count": 198,
     "metadata": {},
     "output_type": "execute_result"
    }
   ],
   "source": [
    "#checking number of columns and rows after the split to confirm working\n",
    "X_train.shape"
   ]
  },
  {
   "cell_type": "code",
   "execution_count": 199,
   "id": "00935742",
   "metadata": {},
   "outputs": [
    {
     "data": {
      "text/plain": [
       "(2666,)"
      ]
     },
     "execution_count": 199,
     "metadata": {},
     "output_type": "execute_result"
    }
   ],
   "source": [
    "y_train.shape"
   ]
  },
  {
   "cell_type": "markdown",
   "id": "4e11e6a4",
   "metadata": {},
   "source": [
    "#### 1) Data Encoding"
   ]
  },
  {
   "cell_type": "markdown",
   "id": "130ca123",
   "metadata": {},
   "source": [
    "Encoding done since some features were seen to be categorical values,one hot encoding undertaken as the objects are nominal. Machine learning models can only work with numerical values,hence the encoding."
   ]
  },
  {
   "cell_type": "code",
   "execution_count": 200,
   "id": "084fc6f9",
   "metadata": {},
   "outputs": [],
   "source": [
    "# One-hot encode the training data and test data\n",
    "ohe = OneHotEncoder(handle_unknown = 'ignore')\n",
    "X_train_enc = ohe.fit_transform(X_train).toarray()\n",
    "X_test_enc = ohe.transform(X_test).toarray()\n"
   ]
  },
  {
   "cell_type": "markdown",
   "id": "d5842ccd",
   "metadata": {},
   "source": [
    "#### 2) Feature selection"
   ]
  },
  {
   "cell_type": "markdown",
   "id": "81c028bb",
   "metadata": {},
   "source": [
    "This is undertaken to identify features that have a higher correlation with the target variable and therefore optimize our results from the model. It also makes it easier during scaling as there are fewer features to be worked on."
   ]
  },
  {
   "cell_type": "code",
   "execution_count": 201,
   "id": "45b076fc",
   "metadata": {},
   "outputs": [
    {
     "name": "stdout",
     "output_type": "stream",
     "text": [
      "[False False False ... False False False]\n"
     ]
    }
   ],
   "source": [
    "# feature selection using filter method\n",
    "\n",
    "selector = SelectKBest(score_func=f_regression,k=7)#7 features\n",
    "X_train_sel = selector.fit_transform(X_train_enc,y_train)\n",
    "print(selector.get_support())#true for the selected features"
   ]
  },
  {
   "cell_type": "code",
   "execution_count": 202,
   "id": "4e6d715c",
   "metadata": {},
   "outputs": [],
   "source": [
    "X_test_sel = selector.transform(X_test_enc)"
   ]
  },
  {
   "cell_type": "code",
   "execution_count": 203,
   "id": "a7548f80",
   "metadata": {},
   "outputs": [
    {
     "data": {
      "text/plain": [
       "account length            0.016541\n",
       "area code                 0.006174\n",
       "number vmail messages    -0.089728\n",
       "total day minutes         0.205151\n",
       "total day calls           0.018459\n",
       "total day charge          0.205151\n",
       "total eve minutes         0.092796\n",
       "total eve calls           0.009233\n",
       "total eve charge          0.092786\n",
       "total night minutes       0.035493\n",
       "total night calls         0.006141\n",
       "total night charge        0.035496\n",
       "total intl minutes        0.068239\n",
       "total intl calls         -0.052844\n",
       "total intl charge         0.068259\n",
       "customer service calls    0.208750\n",
       "churn                     1.000000\n",
       "Name: churn, dtype: float64"
      ]
     },
     "execution_count": 203,
     "metadata": {},
     "output_type": "execute_result"
    }
   ],
   "source": [
    "## option two of feature selection using correlation\n",
    "df.corr()['churn']"
   ]
  },
  {
   "cell_type": "markdown",
   "id": "1560e439",
   "metadata": {},
   "source": [
    "#### 3) Standardization/scaling"
   ]
  },
  {
   "cell_type": "code",
   "execution_count": 204,
   "id": "9eea2a87",
   "metadata": {},
   "outputs": [],
   "source": [
    "#standardize\n",
    "scaler = StandardScaler(with_mean=False)\n",
    "X_train_scaled = scaler.fit_transform(X_train_sel)\n",
    "X_test_scaled = scaler.transform(X_test_sel)"
   ]
  },
  {
   "cell_type": "markdown",
   "id": "200987cf",
   "metadata": {},
   "source": [
    "## vi) Creating,training,predicting and evaluation - logistic regression model"
   ]
  },
  {
   "cell_type": "markdown",
   "id": "d7ac1f87",
   "metadata": {},
   "source": [
    "The problem in question is to predict whether a customer will soon stop doing business with SyriaTel. It is therefore a binary classification problem, it can thus be solved by classification models/techniques. To begin we'll start with the simpler logistic regression model."
   ]
  },
  {
   "cell_type": "code",
   "execution_count": 205,
   "id": "1a351bc9",
   "metadata": {},
   "outputs": [
    {
     "data": {
      "text/plain": [
       "LogisticRegression(max_iter=1000)"
      ]
     },
     "execution_count": 205,
     "metadata": {},
     "output_type": "execute_result"
    }
   ],
   "source": [
    "#model training\n",
    "modellog = LogisticRegression(max_iter=1000)\n",
    "modellog.fit(X_train_scaled,y_train)"
   ]
  },
  {
   "cell_type": "code",
   "execution_count": 206,
   "id": "bf66d0f1",
   "metadata": {},
   "outputs": [
    {
     "name": "stdout",
     "output_type": "stream",
     "text": [
      "              precision    recall  f1-score   support\n",
      "\n",
      "       False       0.88      0.98      0.93      2284\n",
      "        True       0.61      0.17      0.27       382\n",
      "\n",
      "    accuracy                           0.87      2666\n",
      "   macro avg       0.74      0.58      0.60      2666\n",
      "weighted avg       0.84      0.87      0.83      2666\n",
      "\n"
     ]
    }
   ],
   "source": [
    "#evaluate on training data\n",
    "trainlog_pred = modellog.predict(X_train_scaled)\n",
    "print(classification_report(y_train,trainlog_pred))"
   ]
  },
  {
   "cell_type": "code",
   "execution_count": 207,
   "id": "4ab89944",
   "metadata": {},
   "outputs": [
    {
     "name": "stdout",
     "output_type": "stream",
     "text": [
      "              precision    recall  f1-score   support\n",
      "\n",
      "       False       0.86      0.99      0.92       566\n",
      "        True       0.63      0.12      0.20       101\n",
      "\n",
      "    accuracy                           0.86       667\n",
      "   macro avg       0.75      0.55      0.56       667\n",
      "weighted avg       0.83      0.86      0.81       667\n",
      "\n"
     ]
    }
   ],
   "source": [
    "#evaluate on testing data\n",
    "testlog_pred = modellog.predict(X_test_scaled)\n",
    "print(classification_report(y_test,testlog_pred))"
   ]
  },
  {
   "cell_type": "markdown",
   "id": "00399e66",
   "metadata": {},
   "source": [
    "1 Generally from the above classification report, the recall,f1-score values are very low for the true variable in both the training and testing datasets.The accuracy however is within the same range for both the training and testing dataset. From all the metrics observed,the model does not seem to be under/overfitting as the values are within the same ranges for both the test and train data.\n",
    "The low recall value on the true variable means the model was not able to identify a good number of the customers who actually left, hence the low f1-score too.\n",
    "\n",
    "2 Choosing evaluation metric - Precision covers how accurate our model is in predicting whether a customer will drop off,while recall shows what proportion (true positives)the model picks of the customers who actually dropped. To achieve a balance of this, we settle on the f1-score as our evaluation metric.\n",
    "\n",
    "3 For further evaluation the ROC curve is used below to show the rate of truly predicting customers who drop off."
   ]
  },
  {
   "cell_type": "code",
   "execution_count": 208,
   "id": "2cb7d8f6",
   "metadata": {},
   "outputs": [],
   "source": [
    "#Scikit learn's built in roc_curve returns the fpr,tpr,and threshold for various decision boundaries given the case member probabilities\n",
    "#first calculate the probability scores of each of the data points\n",
    "\n",
    "y_score = modellog.fit(X_train_scaled,y_train).decision_function(X_test_scaled)\n",
    "\n",
    "#compute ROC curve values\n",
    "fpr,tpr,thresholds = roc_curve(y_test,y_score)"
   ]
  },
  {
   "cell_type": "code",
   "execution_count": 209,
   "id": "45ca0ced",
   "metadata": {},
   "outputs": [
    {
     "data": {
      "text/plain": [
       "0.681891334009726"
      ]
     },
     "execution_count": 209,
     "metadata": {},
     "output_type": "execute_result"
    }
   ],
   "source": [
    "#calculate AUC\n",
    "\n",
    "auc(fpr,tpr)"
   ]
  },
  {
   "cell_type": "code",
   "execution_count": 210,
   "id": "09f48d73",
   "metadata": {},
   "outputs": [
    {
     "name": "stdout",
     "output_type": "stream",
     "text": [
      "AUC: 0.681891334009726\n"
     ]
    },
    {
     "data": {
      "image/png": "[encoded data removed]",
      "text/plain": [
       "<Figure size 720x576 with 1 Axes>"
      ]
     },
     "metadata": {},
     "output_type": "display_data"
    }
   ],
   "source": [
    "#plotting ROC curve\n",
    "%matplotlib inline\n",
    "sns.set_style('darkgrid', {'axes.facecolor': '0.9'})\n",
    "\n",
    "print('AUC: {}'.format(auc(fpr, tpr)))\n",
    "plt.figure(figsize=(10, 8))\n",
    "lw = 2\n",
    "plt.plot(fpr, tpr, color='darkorange',\n",
    "         lw=lw, label='ROC curve')\n",
    "plt.plot([0, 1], [0, 1], color='navy', lw=lw, linestyle='--')\n",
    "plt.xlim([0.0, 1.0])\n",
    "plt.ylim([0.0, 1.05])\n",
    "plt.yticks([i/20.0 for i in range(21)])\n",
    "plt.xticks([i/20.0 for i in range(21)])\n",
    "plt.xlabel('False Positive Rate')\n",
    "plt.ylabel('True Positive Rate')\n",
    "plt.title('Receiver operating characteristic (ROC) Curve')\n",
    "plt.legend(loc='lower right')\n",
    "plt.show()"
   ]
  },
  {
   "cell_type": "markdown",
   "id": "630e6171",
   "metadata": {},
   "source": [
    "Although the AUC value is greater than 0.5,but still very close to 0.5, it can be better.The true positive Rate is also quite low, and it seems to increase with an increase in the false positive rate.\n",
    "\n",
    "A possible mishap in the dataset could be data imbalance."
   ]
  },
  {
   "cell_type": "code",
   "execution_count": 211,
   "id": "176056a4",
   "metadata": {},
   "outputs": [
    {
     "data": {
      "text/plain": [
       "0         1         2          3          4         5         6        \n",
       "3.388248  0.000000  0.000000   0.000000   0.000000  0.000000  0.000000     2215\n",
       "0.000000  3.388248  0.000000   0.000000   0.000000  0.000000  0.000000      234\n",
       "3.388248  0.000000  0.000000   0.000000   4.694906  0.000000  0.000000      110\n",
       "                                          0.000000  6.913304  0.000000       52\n",
       "                                                    0.000000  11.311955      21\n",
       "0.000000  3.388248  0.000000   0.000000   4.694906  0.000000  0.000000       15\n",
       "3.388248  0.000000  13.835962  13.835962  0.000000  0.000000  0.000000        9\n",
       "0.000000  3.388248  0.000000   0.000000   0.000000  6.913304  0.000000        5\n",
       "                    13.835962  13.835962  0.000000  0.000000  0.000000        3\n",
       "3.388248  0.000000  13.835962  13.835962  4.694906  0.000000  0.000000        2\n",
       "dtype: int64"
      ]
     },
     "execution_count": 211,
     "metadata": {},
     "output_type": "execute_result"
    }
   ],
   "source": [
    "#checking distribution of dataset - X_train\n",
    "X_train_scaleddf = pd.DataFrame(X_train_scaled)\n",
    "X_train_scaleddf.value_counts()"
   ]
  },
  {
   "cell_type": "code",
   "execution_count": 212,
   "id": "7e84c8a8",
   "metadata": {},
   "outputs": [
    {
     "data": {
      "text/plain": [
       "churn\n",
       "False    2284\n",
       "True      382\n",
       "dtype: int64"
      ]
     },
     "execution_count": 212,
     "metadata": {},
     "output_type": "execute_result"
    }
   ],
   "source": [
    "#checking distribution of dataset y_train\n",
    "y_train_scaleddf = pd.DataFrame(y_train)\n",
    "y_train_scaleddf.value_counts()"
   ]
  },
  {
   "cell_type": "markdown",
   "id": "34935e50",
   "metadata": {},
   "source": [
    "The above check shows some class imbalance that could be a cause for the low metric values of the true parameter.The false count is at 2284, while the true count is at 382.To solve this,we'll use the SMOTE technique, oversampling the true values."
   ]
  },
  {
   "cell_type": "markdown",
   "id": "106f19a3",
   "metadata": {},
   "source": [
    "#### 1) Applying SMOTE"
   ]
  },
  {
   "cell_type": "code",
   "execution_count": 213,
   "id": "49f675f5",
   "metadata": {},
   "outputs": [
    {
     "data": {
      "text/plain": [
       "0         1         2          3          4         5         6        \n",
       "3.388248  0.000000  0.000000   0.000000   0.000000  0.000000  0.000000     3064\n",
       "0.000000  3.388248  0.000000   0.000000   0.000000  0.000000  0.000000      718\n",
       "3.388248  0.000000  0.000000   0.000000   4.694906  0.000000  0.000000      360\n",
       "                                          0.000000  6.913304  0.000000      199\n",
       "                                                    0.000000  11.311955      84\n",
       "0.000000  3.388248  0.000000   0.000000   4.694906  0.000000  0.000000       61\n",
       "3.388248  0.000000  13.835962  13.835962  0.000000  0.000000  0.000000       28\n",
       "0.000000  3.388248  0.000000   0.000000   0.000000  6.913304  0.000000       20\n",
       "                    13.835962  13.835962  0.000000  0.000000  0.000000        9\n",
       "3.388248  0.000000  13.835962  13.835962  4.694906  0.000000  0.000000        3\n",
       "                                          0.131349  0.000000  0.000000        1\n",
       "                                          0.225141  0.000000  0.000000        1\n",
       "                                          4.136357  0.000000  0.000000        1\n",
       "                                          4.077467  0.000000  0.000000        1\n",
       "                                          4.072771  0.000000  0.000000        1\n",
       "0.008634  3.379614  13.835962  13.835962  0.000000  0.000000  0.000000        1\n",
       "0.366285  3.021963  0.000000   0.000000   0.000000  6.913304  0.000000        1\n",
       "0.442709  2.945539  13.835962  13.835962  0.000000  0.000000  0.000000        1\n",
       "0.468652  2.919595  0.000000   0.000000   0.000000  6.913304  0.000000        1\n",
       "0.915463  2.472785  13.835962  13.835962  0.000000  0.000000  0.000000        1\n",
       "1.213568  2.174680  13.835962  13.835962  0.000000  0.000000  0.000000        1\n",
       "1.548810  1.839438  13.835962  13.835962  0.000000  0.000000  0.000000        1\n",
       "1.737135  1.651113  13.835962  13.835962  0.000000  0.000000  0.000000        1\n",
       "2.044812  1.343436  13.835962  13.835962  0.000000  0.000000  0.000000        1\n",
       "2.349684  1.038563  13.835962  13.835962  0.000000  0.000000  0.000000        1\n",
       "2.465546  0.922702  0.000000   0.000000   0.000000  6.913304  0.000000        1\n",
       "3.388248  0.000000  13.835962  13.835962  4.626908  0.000000  0.000000        1\n",
       "                                          2.997693  0.000000  0.000000        1\n",
       "                                          1.705472  0.000000  0.000000        1\n",
       "                                          1.545649  0.000000  0.000000        1\n",
       "                                          1.087182  0.000000  0.000000        1\n",
       "3.051477  0.336771  13.835962  13.835962  0.000000  0.000000  0.000000        1\n",
       "dtype: int64"
      ]
     },
     "execution_count": 213,
     "metadata": {},
     "output_type": "execute_result"
    }
   ],
   "source": [
    "# Applying SMOTE on the training data\n",
    "smote = SMOTE()\n",
    "X_train_resampled, y_train_resampled = smote.fit_resample(X_train_scaleddf, y_train_scaleddf) \n",
    "X_train_resampled.value_counts()"
   ]
  },
  {
   "cell_type": "code",
   "execution_count": 214,
   "id": "e25cddb5",
   "metadata": {},
   "outputs": [
    {
     "data": {
      "text/plain": [
       "churn\n",
       "True     2284\n",
       "False    2284\n",
       "dtype: int64"
      ]
     },
     "execution_count": 214,
     "metadata": {},
     "output_type": "execute_result"
    }
   ],
   "source": [
    "#resampled y_train distribution\n",
    "y_train_resampled.value_counts()"
   ]
  },
  {
   "cell_type": "markdown",
   "id": "3d3c7ffb",
   "metadata": {},
   "source": [
    "The result of the SMOTE technique is as shown above, the number of samples are now equal."
   ]
  },
  {
   "cell_type": "code",
   "execution_count": 215,
   "id": "27cb7595",
   "metadata": {},
   "outputs": [
    {
     "name": "stderr",
     "output_type": "stream",
     "text": [
      "c:\\Users\\User\\anaconda3\\envs\\learn-env\\lib\\site-packages\\sklearn\\utils\\validation.py:72: DataConversionWarning: A column-vector y was passed when a 1d array was expected. Please change the shape of y to (n_samples, ), for example using ravel().\n",
      "  return f(**kwargs)\n"
     ]
    },
    {
     "name": "stdout",
     "output_type": "stream",
     "text": [
      "              precision    recall  f1-score   support\n",
      "\n",
      "       False       0.67      0.89      0.76      2284\n",
      "        True       0.84      0.55      0.67      2284\n",
      "\n",
      "    accuracy                           0.72      4568\n",
      "   macro avg       0.75      0.72      0.71      4568\n",
      "weighted avg       0.75      0.72      0.71      4568\n",
      "\n"
     ]
    }
   ],
   "source": [
    "#model training\n",
    "modellog_S = LogisticRegression(max_iter=1000)\n",
    "modellog_S.fit(X_train_resampled,y_train_resampled)\n",
    "\n",
    "#evaluate on training data\n",
    "trainlog_pred_S = modellog_S.predict(X_train_resampled)\n",
    "print(classification_report(y_train_resampled,trainlog_pred_S))\n"
   ]
  },
  {
   "cell_type": "code",
   "execution_count": 216,
   "id": "ef80c491",
   "metadata": {},
   "outputs": [
    {
     "name": "stdout",
     "output_type": "stream",
     "text": [
      "              precision    recall  f1-score   support\n",
      "\n",
      "       False       0.90      0.89      0.90       566\n",
      "        True       0.43      0.47      0.45       101\n",
      "\n",
      "    accuracy                           0.82       667\n",
      "   macro avg       0.67      0.68      0.67       667\n",
      "weighted avg       0.83      0.82      0.83       667\n",
      "\n"
     ]
    }
   ],
   "source": [
    "#evaluate on testing data\n",
    "testlog_pred_S = modellog_S.predict(X_test_scaled)\n",
    "print(classification_report(y_test,testlog_pred_S))"
   ]
  },
  {
   "cell_type": "markdown",
   "id": "a2855822",
   "metadata": {},
   "source": [
    "The evaluation metrics  of the balanced dataset  on the true value have improved compared to the imbalanced dataset, they are higher.This is particularly true for the recall and f1-score.\n",
    "\n",
    "However the training metrics are higher than the test metrics for the true value and lower for the false value."
   ]
  },
  {
   "cell_type": "code",
   "execution_count": 217,
   "id": "9cf610dd",
   "metadata": {},
   "outputs": [
    {
     "name": "stderr",
     "output_type": "stream",
     "text": [
      "c:\\Users\\User\\anaconda3\\envs\\learn-env\\lib\\site-packages\\sklearn\\utils\\validation.py:72: DataConversionWarning: A column-vector y was passed when a 1d array was expected. Please change the shape of y to (n_samples, ), for example using ravel().\n",
      "  return f(**kwargs)\n"
     ]
    },
    {
     "data": {
      "text/plain": [
       "0.681891334009726"
      ]
     },
     "execution_count": 217,
     "metadata": {},
     "output_type": "execute_result"
    }
   ],
   "source": [
    "y_score_S = modellog_S.fit(X_train_resampled,y_train_resampled).decision_function(X_test_scaled)\n",
    "\n",
    "#compute ROC curve values\n",
    "fpr,tpr,thresholds = roc_curve(y_test,y_score_S)\n",
    "\n",
    "auc(fpr,tpr)\n"
   ]
  },
  {
   "cell_type": "code",
   "execution_count": 218,
   "id": "1c1ee589",
   "metadata": {},
   "outputs": [
    {
     "name": "stdout",
     "output_type": "stream",
     "text": [
      "AUC: 0.681891334009726\n"
     ]
    },
    {
     "data": {
      "image/png": "[encoded data removed]",
      "text/plain": [
       "<Figure size 720x576 with 1 Axes>"
      ]
     },
     "metadata": {},
     "output_type": "display_data"
    }
   ],
   "source": [
    "#plotting ROC curve\n",
    "%matplotlib inline\n",
    "sns.set_style('darkgrid', {'axes.facecolor': '0.9'})\n",
    "\n",
    "print('AUC: {}'.format(auc(fpr, tpr)))\n",
    "plt.figure(figsize=(10, 8))\n",
    "lw = 2\n",
    "plt.plot(fpr, tpr, color='darkorange',\n",
    "         lw=lw, label='ROC curve')\n",
    "plt.plot([0, 1], [0, 1], color='navy', lw=lw, linestyle='--')\n",
    "plt.xlim([0.0, 1.0])\n",
    "plt.ylim([0.0, 1.05])\n",
    "plt.yticks([i/20.0 for i in range(21)])\n",
    "plt.xticks([i/20.0 for i in range(21)])\n",
    "plt.xlabel('False Positive Rate')\n",
    "plt.ylabel('True Positive Rate')\n",
    "plt.title('Receiver operating characteristic (ROC) Curve')\n",
    "plt.legend(loc='lower right')\n",
    "plt.show()"
   ]
  },
  {
   "cell_type": "markdown",
   "id": "5a8944e6",
   "metadata": {},
   "source": [
    "The ROC curve after the SMOTE application is still the same."
   ]
  },
  {
   "cell_type": "markdown",
   "id": "13d9491c",
   "metadata": {},
   "source": [
    "#### 2) Regularization"
   ]
  },
  {
   "cell_type": "markdown",
   "id": "a17f5d8f",
   "metadata": {},
   "source": [
    "To minimize the overfitting of the above model, we try using the ridge regularization. This is because it introduces a penalty but does not perform feature selection, as we do not want to loose any features."
   ]
  },
  {
   "cell_type": "code",
   "execution_count": 219,
   "id": "b2d05c7f",
   "metadata": {},
   "outputs": [
    {
     "name": "stderr",
     "output_type": "stream",
     "text": [
      "c:\\Users\\User\\anaconda3\\envs\\learn-env\\lib\\site-packages\\sklearn\\utils\\validation.py:72: DataConversionWarning: A column-vector y was passed when a 1d array was expected. Please change the shape of y to (n_samples, ), for example using ravel().\n",
      "  return f(**kwargs)\n"
     ]
    },
    {
     "data": {
      "text/plain": [
       "LogisticRegression(random_state=42, solver='liblinear')"
      ]
     },
     "execution_count": 219,
     "metadata": {},
     "output_type": "execute_result"
    }
   ],
   "source": [
    "#applying ridge regularization\n",
    "ridge = LogisticRegression(penalty='l2', solver='liblinear', random_state=42)\n",
    "ridge.fit(X_train_resampled, y_train_resampled)"
   ]
  },
  {
   "cell_type": "code",
   "execution_count": 220,
   "id": "73cac310",
   "metadata": {},
   "outputs": [],
   "source": [
    "# Generate predictions for training and test sets\n",
    "y_h_ridge_train = ridge.predict(X_train_resampled)\n",
    "y_h_ridge_test = ridge.predict(X_test_scaled)"
   ]
  },
  {
   "cell_type": "code",
   "execution_count": 221,
   "id": "add456b9",
   "metadata": {},
   "outputs": [
    {
     "name": "stdout",
     "output_type": "stream",
     "text": [
      "              precision    recall  f1-score   support\n",
      "\n",
      "       False       0.67      0.89      0.76      2284\n",
      "        True       0.84      0.55      0.67      2284\n",
      "\n",
      "    accuracy                           0.72      4568\n",
      "   macro avg       0.75      0.72      0.71      4568\n",
      "weighted avg       0.75      0.72      0.71      4568\n",
      "\n"
     ]
    }
   ],
   "source": [
    "#evaluation metrics for the train data set\n",
    "print(classification_report(y_train_resampled,y_h_ridge_train))"
   ]
  },
  {
   "cell_type": "code",
   "execution_count": 222,
   "id": "a80849e5",
   "metadata": {},
   "outputs": [
    {
     "name": "stdout",
     "output_type": "stream",
     "text": [
      "              precision    recall  f1-score   support\n",
      "\n",
      "       False       0.90      0.89      0.90       566\n",
      "        True       0.43      0.47      0.45       101\n",
      "\n",
      "    accuracy                           0.82       667\n",
      "   macro avg       0.67      0.68      0.67       667\n",
      "weighted avg       0.83      0.82      0.83       667\n",
      "\n"
     ]
    }
   ],
   "source": [
    "#evaluation metrics for the test data set\n",
    "print(classification_report(y_test,y_h_ridge_test))"
   ]
  },
  {
   "cell_type": "markdown",
   "id": "8c2c7945",
   "metadata": {},
   "source": [
    "From the ridge regularization done above the model still appears to be overfitting on the training data set.An alternative is using another model."
   ]
  },
  {
   "cell_type": "markdown",
   "id": "fe9b2dac",
   "metadata": {},
   "source": [
    "Using sag solver"
   ]
  },
  {
   "cell_type": "code",
   "execution_count": 223,
   "id": "d5b20abc",
   "metadata": {},
   "outputs": [
    {
     "name": "stderr",
     "output_type": "stream",
     "text": [
      "c:\\Users\\User\\anaconda3\\envs\\learn-env\\lib\\site-packages\\sklearn\\utils\\validation.py:72: DataConversionWarning: A column-vector y was passed when a 1d array was expected. Please change the shape of y to (n_samples, ), for example using ravel().\n",
      "  return f(**kwargs)\n",
      "c:\\Users\\User\\anaconda3\\envs\\learn-env\\lib\\site-packages\\sklearn\\linear_model\\_sag.py:329: ConvergenceWarning: The max_iter was reached which means the coef_ did not converge\n",
      "  warnings.warn(\"The max_iter was reached which means \"\n"
     ]
    },
    {
     "data": {
      "text/plain": [
       "LogisticRegression(random_state=42, solver='sag')"
      ]
     },
     "execution_count": 223,
     "metadata": {},
     "output_type": "execute_result"
    }
   ],
   "source": [
    "#applying ridge regularization\n",
    "ridge2 = LogisticRegression(penalty='l2', solver='sag', random_state=42)\n",
    "ridge2.fit(X_train_resampled, y_train_resampled)"
   ]
  },
  {
   "cell_type": "code",
   "execution_count": 224,
   "id": "517bf1a4",
   "metadata": {},
   "outputs": [],
   "source": [
    "# Generate predictions for training and test sets\n",
    "y_h_ridge_train1 = ridge2.predict(X_train_resampled)\n",
    "y_h_ridge_test1 = ridge2.predict(X_test_scaled)"
   ]
  },
  {
   "cell_type": "code",
   "execution_count": 225,
   "id": "7fca3745",
   "metadata": {},
   "outputs": [
    {
     "name": "stdout",
     "output_type": "stream",
     "text": [
      "              precision    recall  f1-score   support\n",
      "\n",
      "       False       0.90      0.89      0.90       566\n",
      "        True       0.43      0.47      0.45       101\n",
      "\n",
      "    accuracy                           0.82       667\n",
      "   macro avg       0.67      0.68      0.67       667\n",
      "weighted avg       0.83      0.82      0.83       667\n",
      "\n"
     ]
    }
   ],
   "source": [
    "#evaluation metrics for the test data set\n",
    "print(classification_report(y_test,y_h_ridge_test1))"
   ]
  },
  {
   "cell_type": "markdown",
   "id": "67ad33a4",
   "metadata": {},
   "source": [
    "Using a different solver did not have an effect on the true values."
   ]
  },
  {
   "cell_type": "markdown",
   "id": "08392fce",
   "metadata": {},
   "source": [
    "## vii) Creating,training,predicting and evaluation - decision trees model"
   ]
  },
  {
   "cell_type": "markdown",
   "id": "0e3c5a03",
   "metadata": {},
   "source": [
    "We'll use the already resampled data from the logistic regression above to perform the decison tree model evaluation."
   ]
  },
  {
   "cell_type": "code",
   "execution_count": 226,
   "id": "1945224f",
   "metadata": {},
   "outputs": [
    {
     "data": {
      "text/plain": [
       "DecisionTreeClassifier(criterion='entropy')"
      ]
     },
     "execution_count": 226,
     "metadata": {},
     "output_type": "execute_result"
    }
   ],
   "source": [
    "#Training the decision tree\n",
    "clf = DecisionTreeClassifier(criterion='entropy')\n",
    "clf.fit(X_train_resampled,y_train_resampled)"
   ]
  },
  {
   "cell_type": "code",
   "execution_count": 227,
   "id": "bebaecf6",
   "metadata": {},
   "outputs": [
    {
     "data": {
      "image/png": "[encoded data removed]",
      "text/plain": [
       "<Figure size 1200x1200 with 1 Axes>"
      ]
     },
     "metadata": {},
     "output_type": "display_data"
    }
   ],
   "source": [
    "## plotting the decision tree\n",
    "fig, axes = plt.subplots(nrows = 1,ncols = 1, figsize = (4,4), dpi=300)\n",
    "tree.plot_tree(clf,\n",
    "               feature_names = X_train_resampled.columns, \n",
    "               class_names=np.unique(y).astype('str'),\n",
    "               filled = True)\n",
    "plt.show()"
   ]
  },
  {
   "cell_type": "code",
   "execution_count": null,
   "id": "8fc4624a",
   "metadata": {},
   "outputs": [
    {
     "name": "stdout",
     "output_type": "stream",
     "text": [
      "              precision    recall  f1-score   support\n",
      "\n",
      "       False       0.67      0.89      0.76      2284\n",
      "        True       0.84      0.55      0.67      2284\n",
      "\n",
      "    accuracy                           0.72      4568\n",
      "   macro avg       0.75      0.72      0.71      4568\n",
      "weighted avg       0.75      0.72      0.71      4568\n",
      "\n"
     ]
    }
   ],
   "source": [
    "#evaluating predictive perfomance of the decison tree model\n",
    "y_pred_train_DT = clf.predict(X_train_resampled)\n",
    "print(classification_report(y_train_resampled,y_pred_train_DT))"
   ]
  },
  {
   "cell_type": "code",
   "execution_count": 230,
   "id": "61f7d0d7",
   "metadata": {},
   "outputs": [
    {
     "name": "stdout",
     "output_type": "stream",
     "text": [
      "              precision    recall  f1-score   support\n",
      "\n",
      "       False       0.90      0.89      0.90       566\n",
      "        True       0.43      0.47      0.45       101\n",
      "\n",
      "    accuracy                           0.82       667\n",
      "   macro avg       0.67      0.68      0.67       667\n",
      "weighted avg       0.83      0.82      0.83       667\n",
      "\n"
     ]
    }
   ],
   "source": [
    "#evaluating predictive perfomance of the decison tree model\n",
    "y_pred_test_DT = clf.predict(X_test_scaled)\n",
    "print(classification_report(y_test,y_pred_test_DT))"
   ]
  },
  {
   "cell_type": "markdown",
   "id": "c32238c5",
   "metadata": {},
   "source": [
    "The two models, after all the data preprocessing done have the same issue of a low f1 score. It can be seen that the test data set is unbalanced, hence a possible cause for the low values."
   ]
  },
  {
   "cell_type": "markdown",
   "id": "ccc14053",
   "metadata": {},
   "source": [
    "#### 1) Applying post pruning to the decision tree model"
   ]
  },
  {
   "cell_type": "markdown",
   "id": "5a804bd3",
   "metadata": {},
   "source": [
    "Post pruning is being applied to reduce the overfitting nature of the model, and hence improve its generalization."
   ]
  },
  {
   "cell_type": "code",
   "execution_count": 231,
   "id": "7ca6b4e9",
   "metadata": {},
   "outputs": [
    {
     "data": {
      "text/plain": [
       "0.03619976060389285"
      ]
     },
     "execution_count": 231,
     "metadata": {},
     "output_type": "execute_result"
    }
   ],
   "source": [
    "#choosing the best value of alpha for use with the ccp\n",
    "\n",
    "path = clf.cost_complexity_pruning_path(X_train_resampled, y_train_resampled)\n",
    "ccp_alphas, impurities = path.ccp_alphas, path.impurities \n",
    "\n",
    "#evaluating perfomance of decision tree models with each alpha value\n",
    "clfs = []\n",
    "for ccp_alpha in ccp_alphas:\n",
    "    clf = DecisionTreeClassifier(random_state=42, ccp_alpha=ccp_alpha)\n",
    "    clf.fit(X_train_resampled, y_train_resampled)\n",
    "    y_pred_cl = clf.predict(X_train_resampled)\n",
    "    f1_s = f1_score (y_train_resampled, y_pred_cl)\n",
    "    clfs.append((ccp_alpha,f1_s))\n",
    "    \n",
    "\n",
    "alpha_1 = None\n",
    "f1_s_1 = 0\n",
    "for ccp_alpha, f1_s in clfs:\n",
    "    if f1_s > f1_s_1:\n",
    "        f1_chosen = f1_s\n",
    "        alpha_chosen = ccp_alpha\n",
    "\n",
    "\n",
    "alpha_chosen"
   ]
  },
  {
   "cell_type": "markdown",
   "id": "097e8b0a",
   "metadata": {},
   "source": [
    "Though the alpha above is 0.026, it gives lower f1 score value hence the use of 0.01 below which gives higher f1 score value."
   ]
  },
  {
   "cell_type": "code",
   "execution_count": 232,
   "id": "8b2fc6f1",
   "metadata": {},
   "outputs": [
    {
     "data": {
      "text/plain": [
       "DecisionTreeClassifier(ccp_alpha=0.01, random_state=42)"
      ]
     },
     "execution_count": 232,
     "metadata": {},
     "output_type": "execute_result"
    }
   ],
   "source": [
    "# Define the model with post-pruning\n",
    "dtree_regpp = DecisionTreeClassifier(random_state=42, ccp_alpha=0.01)\n",
    "\n",
    "# Train the model\n",
    "dtree_regpp.fit(X_train_resampled, y_train_resampled)\n",
    "\n",
    "# Evaluate the model\n",
    "#score = dtree_regpp.score(X_test, y_test)\n",
    "#(\"Model Score after Pruning:\", score)\n"
   ]
  },
  {
   "cell_type": "code",
   "execution_count": 233,
   "id": "2d1a5a1c",
   "metadata": {},
   "outputs": [
    {
     "name": "stdout",
     "output_type": "stream",
     "text": [
      "              precision    recall  f1-score   support\n",
      "\n",
      "       False       0.66      0.90      0.76      2284\n",
      "        True       0.84      0.54      0.66      2284\n",
      "\n",
      "    accuracy                           0.72      4568\n",
      "   macro avg       0.75      0.72      0.71      4568\n",
      "weighted avg       0.75      0.72      0.71      4568\n",
      "\n"
     ]
    }
   ],
   "source": [
    "#evaluating predictive perfomance of the decision tree model - train\n",
    "dtree_regpp_pred_train= dtree_regpp.predict(X_train_resampled)\n",
    "print(classification_report(y_train_resampled,dtree_regpp_pred_train))"
   ]
  },
  {
   "cell_type": "code",
   "execution_count": 234,
   "id": "10b7fdcd",
   "metadata": {},
   "outputs": [
    {
     "name": "stdout",
     "output_type": "stream",
     "text": [
      "              precision    recall  f1-score   support\n",
      "\n",
      "       False       0.90      0.89      0.90       566\n",
      "        True       0.43      0.46      0.44       101\n",
      "\n",
      "    accuracy                           0.82       667\n",
      "   macro avg       0.66      0.67      0.67       667\n",
      "weighted avg       0.83      0.82      0.83       667\n",
      "\n"
     ]
    }
   ],
   "source": [
    "#evaluating predictive perfomance of the decision tree model - test\n",
    "dtree_regpp_pred_test= dtree_regpp.predict(X_test_scaled)\n",
    "print(classification_report(y_test,dtree_regpp_pred_test))\n"
   ]
  },
  {
   "cell_type": "code",
   "execution_count": null,
   "id": "549ed9c1",
   "metadata": {},
   "outputs": [],
   "source": []
  }
 ],
 "metadata": {
  "kernelspec": {
   "display_name": "learn-env",
   "language": "python",
   "name": "python3"
  },
  "language_info": {
   "codemirror_mode": {
    "name": "ipython",
    "version": 3
   },
   "file_extension": ".py",
   "mimetype": "text/x-python",
   "name": "python",
   "nbconvert_exporter": "python",
   "pygments_lexer": "ipython3",
   "version": "3.8.5"
  }
 },
 "nbformat": 4,
 "nbformat_minor": 5
}
